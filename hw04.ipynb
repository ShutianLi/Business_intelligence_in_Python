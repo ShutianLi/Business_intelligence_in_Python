{
 "cells": [
  {
   "cell_type": "code",
   "execution_count": 88,
   "metadata": {},
   "outputs": [],
   "source": [
    "import pandas as pd \n",
    "\n",
    "data_address = \"/Users/user/Desktop/Business_intelligence_in_Python/eBayAuctions.csv\"\n",
    "ebay_df = pd.read_csv(data_address,encoding='utf-8')\n"
   ]
  },
  {
   "cell_type": "code",
   "execution_count": 89,
   "metadata": {},
   "outputs": [
    {
     "data": {
      "text/html": [
       "<div>\n",
       "<style scoped>\n",
       "    .dataframe tbody tr th:only-of-type {\n",
       "        vertical-align: middle;\n",
       "    }\n",
       "\n",
       "    .dataframe tbody tr th {\n",
       "        vertical-align: top;\n",
       "    }\n",
       "\n",
       "    .dataframe thead th {\n",
       "        text-align: right;\n",
       "    }\n",
       "</style>\n",
       "<table border=\"1\" class=\"dataframe\">\n",
       "  <thead>\n",
       "    <tr style=\"text-align: right;\">\n",
       "      <th></th>\n",
       "      <th>Category</th>\n",
       "      <th>currency</th>\n",
       "      <th>sellerRating</th>\n",
       "      <th>Duration</th>\n",
       "      <th>endDay</th>\n",
       "      <th>ClosePrice</th>\n",
       "      <th>OpenPrice</th>\n",
       "      <th>Competitive?</th>\n",
       "    </tr>\n",
       "  </thead>\n",
       "  <tbody>\n",
       "    <tr>\n",
       "      <th>0</th>\n",
       "      <td>Music/Movie/Game</td>\n",
       "      <td>US</td>\n",
       "      <td>3249</td>\n",
       "      <td>5</td>\n",
       "      <td>Mon</td>\n",
       "      <td>0.01</td>\n",
       "      <td>0.01</td>\n",
       "      <td>0</td>\n",
       "    </tr>\n",
       "    <tr>\n",
       "      <th>1</th>\n",
       "      <td>Music/Movie/Game</td>\n",
       "      <td>US</td>\n",
       "      <td>3249</td>\n",
       "      <td>5</td>\n",
       "      <td>Mon</td>\n",
       "      <td>0.01</td>\n",
       "      <td>0.01</td>\n",
       "      <td>0</td>\n",
       "    </tr>\n",
       "    <tr>\n",
       "      <th>2</th>\n",
       "      <td>Music/Movie/Game</td>\n",
       "      <td>US</td>\n",
       "      <td>3249</td>\n",
       "      <td>5</td>\n",
       "      <td>Mon</td>\n",
       "      <td>0.01</td>\n",
       "      <td>0.01</td>\n",
       "      <td>0</td>\n",
       "    </tr>\n",
       "    <tr>\n",
       "      <th>3</th>\n",
       "      <td>Music/Movie/Game</td>\n",
       "      <td>US</td>\n",
       "      <td>3249</td>\n",
       "      <td>5</td>\n",
       "      <td>Mon</td>\n",
       "      <td>0.01</td>\n",
       "      <td>0.01</td>\n",
       "      <td>0</td>\n",
       "    </tr>\n",
       "    <tr>\n",
       "      <th>4</th>\n",
       "      <td>Music/Movie/Game</td>\n",
       "      <td>US</td>\n",
       "      <td>3249</td>\n",
       "      <td>5</td>\n",
       "      <td>Mon</td>\n",
       "      <td>0.01</td>\n",
       "      <td>0.01</td>\n",
       "      <td>0</td>\n",
       "    </tr>\n",
       "  </tbody>\n",
       "</table>\n",
       "</div>"
      ],
      "text/plain": [
       "           Category currency  sellerRating  Duration endDay  ClosePrice  \\\n",
       "0  Music/Movie/Game       US          3249         5    Mon        0.01   \n",
       "1  Music/Movie/Game       US          3249         5    Mon        0.01   \n",
       "2  Music/Movie/Game       US          3249         5    Mon        0.01   \n",
       "3  Music/Movie/Game       US          3249         5    Mon        0.01   \n",
       "4  Music/Movie/Game       US          3249         5    Mon        0.01   \n",
       "\n",
       "   OpenPrice  Competitive?  \n",
       "0       0.01             0  \n",
       "1       0.01             0  \n",
       "2       0.01             0  \n",
       "3       0.01             0  \n",
       "4       0.01             0  "
      ]
     },
     "execution_count": 89,
     "metadata": {},
     "output_type": "execute_result"
    }
   ],
   "source": [
    "# explore the data \n",
    "ebay_df.head()"
   ]
  },
  {
   "cell_type": "code",
   "execution_count": 90,
   "metadata": {},
   "outputs": [
    {
     "data": {
      "text/plain": [
       "Index(['Category', 'currency', 'sellerRating', 'Duration', 'endDay',\n",
       "       'ClosePrice', 'OpenPrice', 'Competitive?'],\n",
       "      dtype='object')"
      ]
     },
     "execution_count": 90,
     "metadata": {},
     "output_type": "execute_result"
    }
   ],
   "source": [
    "ebay_df.columns"
   ]
  },
  {
   "cell_type": "code",
   "execution_count": 91,
   "metadata": {},
   "outputs": [
    {
     "name": "stdout",
     "output_type": "stream",
     "text": [
      "<class 'pandas.core.frame.DataFrame'>\n",
      "RangeIndex: 1972 entries, 0 to 1971\n",
      "Data columns (total 8 columns):\n",
      "Category        1972 non-null object\n",
      "currency        1972 non-null object\n",
      "sellerRating    1972 non-null int64\n",
      "Duration        1972 non-null int64\n",
      "endDay          1972 non-null object\n",
      "ClosePrice      1972 non-null float64\n",
      "OpenPrice       1972 non-null float64\n",
      "Competitive?    1972 non-null int64\n",
      "dtypes: float64(2), int64(3), object(3)\n",
      "memory usage: 123.3+ KB\n"
     ]
    }
   ],
   "source": [
    "ebay_df.info()"
   ]
  },
  {
   "cell_type": "code",
   "execution_count": 92,
   "metadata": {},
   "outputs": [
    {
     "data": {
      "text/html": [
       "<div>\n",
       "<style scoped>\n",
       "    .dataframe tbody tr th:only-of-type {\n",
       "        vertical-align: middle;\n",
       "    }\n",
       "\n",
       "    .dataframe tbody tr th {\n",
       "        vertical-align: top;\n",
       "    }\n",
       "\n",
       "    .dataframe thead th {\n",
       "        text-align: right;\n",
       "    }\n",
       "</style>\n",
       "<table border=\"1\" class=\"dataframe\">\n",
       "  <thead>\n",
       "    <tr style=\"text-align: right;\">\n",
       "      <th></th>\n",
       "      <th>sellerRating</th>\n",
       "      <th>Duration</th>\n",
       "      <th>ClosePrice</th>\n",
       "      <th>OpenPrice</th>\n",
       "      <th>Competitive?</th>\n",
       "    </tr>\n",
       "    <tr>\n",
       "      <th>Category</th>\n",
       "      <th></th>\n",
       "      <th></th>\n",
       "      <th></th>\n",
       "      <th></th>\n",
       "      <th></th>\n",
       "    </tr>\n",
       "  </thead>\n",
       "  <tbody>\n",
       "    <tr>\n",
       "      <th>Antique/Art/Craft</th>\n",
       "      <td>2667.774011</td>\n",
       "      <td>6.971751</td>\n",
       "      <td>12.909040</td>\n",
       "      <td>6.069435</td>\n",
       "      <td>0.564972</td>\n",
       "    </tr>\n",
       "    <tr>\n",
       "      <th>Automotive</th>\n",
       "      <td>2865.421348</td>\n",
       "      <td>5.022472</td>\n",
       "      <td>93.018876</td>\n",
       "      <td>55.547978</td>\n",
       "      <td>0.353933</td>\n",
       "    </tr>\n",
       "    <tr>\n",
       "      <th>Books</th>\n",
       "      <td>1294.018519</td>\n",
       "      <td>7.481481</td>\n",
       "      <td>28.864074</td>\n",
       "      <td>7.850926</td>\n",
       "      <td>0.500000</td>\n",
       "    </tr>\n",
       "    <tr>\n",
       "      <th>Business/Industrial</th>\n",
       "      <td>2441.166667</td>\n",
       "      <td>6.055556</td>\n",
       "      <td>40.149444</td>\n",
       "      <td>13.973333</td>\n",
       "      <td>0.666667</td>\n",
       "    </tr>\n",
       "    <tr>\n",
       "      <th>Clothing/Accessories</th>\n",
       "      <td>1091.554622</td>\n",
       "      <td>7.478992</td>\n",
       "      <td>34.650168</td>\n",
       "      <td>7.736975</td>\n",
       "      <td>0.504202</td>\n",
       "    </tr>\n",
       "    <tr>\n",
       "      <th>Coins/Stamps</th>\n",
       "      <td>3637.513514</td>\n",
       "      <td>6.756757</td>\n",
       "      <td>31.088108</td>\n",
       "      <td>25.077297</td>\n",
       "      <td>0.297297</td>\n",
       "    </tr>\n",
       "    <tr>\n",
       "      <th>Collectibles</th>\n",
       "      <td>3040.046025</td>\n",
       "      <td>6.790795</td>\n",
       "      <td>36.872720</td>\n",
       "      <td>8.304435</td>\n",
       "      <td>0.577406</td>\n",
       "    </tr>\n",
       "    <tr>\n",
       "      <th>Computer</th>\n",
       "      <td>1144.722222</td>\n",
       "      <td>5.583333</td>\n",
       "      <td>83.776389</td>\n",
       "      <td>8.081944</td>\n",
       "      <td>0.666667</td>\n",
       "    </tr>\n",
       "    <tr>\n",
       "      <th>Electronics</th>\n",
       "      <td>1565.181818</td>\n",
       "      <td>6.818182</td>\n",
       "      <td>88.328364</td>\n",
       "      <td>17.115455</td>\n",
       "      <td>0.800000</td>\n",
       "    </tr>\n",
       "    <tr>\n",
       "      <th>EverythingElse</th>\n",
       "      <td>1438.117647</td>\n",
       "      <td>6.000000</td>\n",
       "      <td>20.754706</td>\n",
       "      <td>9.040588</td>\n",
       "      <td>0.235294</td>\n",
       "    </tr>\n",
       "    <tr>\n",
       "      <th>Health/Beauty</th>\n",
       "      <td>1522.515625</td>\n",
       "      <td>6.718750</td>\n",
       "      <td>9.405469</td>\n",
       "      <td>8.016719</td>\n",
       "      <td>0.171875</td>\n",
       "    </tr>\n",
       "    <tr>\n",
       "      <th>Home/Garden</th>\n",
       "      <td>1805.725490</td>\n",
       "      <td>7.166667</td>\n",
       "      <td>26.737941</td>\n",
       "      <td>5.929706</td>\n",
       "      <td>0.656863</td>\n",
       "    </tr>\n",
       "    <tr>\n",
       "      <th>Jewelry</th>\n",
       "      <td>8418.548780</td>\n",
       "      <td>6.365854</td>\n",
       "      <td>23.623293</td>\n",
       "      <td>10.130122</td>\n",
       "      <td>0.365854</td>\n",
       "    </tr>\n",
       "    <tr>\n",
       "      <th>Music/Movie/Game</th>\n",
       "      <td>2645.493797</td>\n",
       "      <td>6.215881</td>\n",
       "      <td>9.299355</td>\n",
       "      <td>4.826898</td>\n",
       "      <td>0.602978</td>\n",
       "    </tr>\n",
       "    <tr>\n",
       "      <th>Photography</th>\n",
       "      <td>321.769231</td>\n",
       "      <td>5.384615</td>\n",
       "      <td>179.703846</td>\n",
       "      <td>17.959231</td>\n",
       "      <td>0.846154</td>\n",
       "    </tr>\n",
       "    <tr>\n",
       "      <th>Pottery/Glass</th>\n",
       "      <td>1813.700000</td>\n",
       "      <td>6.950000</td>\n",
       "      <td>65.484000</td>\n",
       "      <td>47.606000</td>\n",
       "      <td>0.350000</td>\n",
       "    </tr>\n",
       "    <tr>\n",
       "      <th>SportingGoods</th>\n",
       "      <td>12341.516129</td>\n",
       "      <td>6.354839</td>\n",
       "      <td>86.646129</td>\n",
       "      <td>8.207823</td>\n",
       "      <td>0.725806</td>\n",
       "    </tr>\n",
       "    <tr>\n",
       "      <th>Toys/Hobbies</th>\n",
       "      <td>5013.029915</td>\n",
       "      <td>6.512821</td>\n",
       "      <td>21.525726</td>\n",
       "      <td>10.841111</td>\n",
       "      <td>0.529915</td>\n",
       "    </tr>\n",
       "  </tbody>\n",
       "</table>\n",
       "</div>"
      ],
      "text/plain": [
       "                      sellerRating  Duration  ClosePrice  OpenPrice  \\\n",
       "Category                                                              \n",
       "Antique/Art/Craft      2667.774011  6.971751   12.909040   6.069435   \n",
       "Automotive             2865.421348  5.022472   93.018876  55.547978   \n",
       "Books                  1294.018519  7.481481   28.864074   7.850926   \n",
       "Business/Industrial    2441.166667  6.055556   40.149444  13.973333   \n",
       "Clothing/Accessories   1091.554622  7.478992   34.650168   7.736975   \n",
       "Coins/Stamps           3637.513514  6.756757   31.088108  25.077297   \n",
       "Collectibles           3040.046025  6.790795   36.872720   8.304435   \n",
       "Computer               1144.722222  5.583333   83.776389   8.081944   \n",
       "Electronics            1565.181818  6.818182   88.328364  17.115455   \n",
       "EverythingElse         1438.117647  6.000000   20.754706   9.040588   \n",
       "Health/Beauty          1522.515625  6.718750    9.405469   8.016719   \n",
       "Home/Garden            1805.725490  7.166667   26.737941   5.929706   \n",
       "Jewelry                8418.548780  6.365854   23.623293  10.130122   \n",
       "Music/Movie/Game       2645.493797  6.215881    9.299355   4.826898   \n",
       "Photography             321.769231  5.384615  179.703846  17.959231   \n",
       "Pottery/Glass          1813.700000  6.950000   65.484000  47.606000   \n",
       "SportingGoods         12341.516129  6.354839   86.646129   8.207823   \n",
       "Toys/Hobbies           5013.029915  6.512821   21.525726  10.841111   \n",
       "\n",
       "                      Competitive?  \n",
       "Category                            \n",
       "Antique/Art/Craft         0.564972  \n",
       "Automotive                0.353933  \n",
       "Books                     0.500000  \n",
       "Business/Industrial       0.666667  \n",
       "Clothing/Accessories      0.504202  \n",
       "Coins/Stamps              0.297297  \n",
       "Collectibles              0.577406  \n",
       "Computer                  0.666667  \n",
       "Electronics               0.800000  \n",
       "EverythingElse            0.235294  \n",
       "Health/Beauty             0.171875  \n",
       "Home/Garden               0.656863  \n",
       "Jewelry                   0.365854  \n",
       "Music/Movie/Game          0.602978  \n",
       "Photography               0.846154  \n",
       "Pottery/Glass             0.350000  \n",
       "SportingGoods             0.725806  \n",
       "Toys/Hobbies              0.529915  "
      ]
     },
     "execution_count": 92,
     "metadata": {},
     "output_type": "execute_result"
    }
   ],
   "source": [
    "# create the pivot table \n",
    "ebay_df.groupby('Category').mean()"
   ]
  },
  {
   "cell_type": "code",
   "execution_count": 93,
   "metadata": {},
   "outputs": [
    {
     "data": {
      "text/html": [
       "<div>\n",
       "<style scoped>\n",
       "    .dataframe tbody tr th:only-of-type {\n",
       "        vertical-align: middle;\n",
       "    }\n",
       "\n",
       "    .dataframe tbody tr th {\n",
       "        vertical-align: top;\n",
       "    }\n",
       "\n",
       "    .dataframe thead th {\n",
       "        text-align: right;\n",
       "    }\n",
       "</style>\n",
       "<table border=\"1\" class=\"dataframe\">\n",
       "  <thead>\n",
       "    <tr style=\"text-align: right;\">\n",
       "      <th></th>\n",
       "      <th>sellerRating</th>\n",
       "      <th>ClosePrice</th>\n",
       "      <th>OpenPrice</th>\n",
       "      <th>Competitive?</th>\n",
       "    </tr>\n",
       "    <tr>\n",
       "      <th>Duration</th>\n",
       "      <th></th>\n",
       "      <th></th>\n",
       "      <th></th>\n",
       "      <th></th>\n",
       "    </tr>\n",
       "  </thead>\n",
       "  <tbody>\n",
       "    <tr>\n",
       "      <th>1</th>\n",
       "      <td>4712.217391</td>\n",
       "      <td>121.823043</td>\n",
       "      <td>12.565217</td>\n",
       "      <td>0.521739</td>\n",
       "    </tr>\n",
       "    <tr>\n",
       "      <th>3</th>\n",
       "      <td>3596.915493</td>\n",
       "      <td>44.220235</td>\n",
       "      <td>20.722488</td>\n",
       "      <td>0.450704</td>\n",
       "    </tr>\n",
       "    <tr>\n",
       "      <th>5</th>\n",
       "      <td>5797.652361</td>\n",
       "      <td>46.813605</td>\n",
       "      <td>13.563433</td>\n",
       "      <td>0.686695</td>\n",
       "    </tr>\n",
       "    <tr>\n",
       "      <th>7</th>\n",
       "      <td>2909.611169</td>\n",
       "      <td>29.362089</td>\n",
       "      <td>13.055646</td>\n",
       "      <td>0.489142</td>\n",
       "    </tr>\n",
       "    <tr>\n",
       "      <th>10</th>\n",
       "      <td>2082.396040</td>\n",
       "      <td>31.183102</td>\n",
       "      <td>6.080330</td>\n",
       "      <td>0.544554</td>\n",
       "    </tr>\n",
       "  </tbody>\n",
       "</table>\n",
       "</div>"
      ],
      "text/plain": [
       "          sellerRating  ClosePrice  OpenPrice  Competitive?\n",
       "Duration                                                   \n",
       "1          4712.217391  121.823043  12.565217      0.521739\n",
       "3          3596.915493   44.220235  20.722488      0.450704\n",
       "5          5797.652361   46.813605  13.563433      0.686695\n",
       "7          2909.611169   29.362089  13.055646      0.489142\n",
       "10         2082.396040   31.183102   6.080330      0.544554"
      ]
     },
     "execution_count": 93,
     "metadata": {},
     "output_type": "execute_result"
    }
   ],
   "source": [
    "ebay_df.groupby('Duration').mean()"
   ]
  },
  {
   "cell_type": "code",
   "execution_count": 94,
   "metadata": {},
   "outputs": [
    {
     "data": {
      "text/html": [
       "<div>\n",
       "<style scoped>\n",
       "    .dataframe tbody tr th:only-of-type {\n",
       "        vertical-align: middle;\n",
       "    }\n",
       "\n",
       "    .dataframe tbody tr th {\n",
       "        vertical-align: top;\n",
       "    }\n",
       "\n",
       "    .dataframe thead th {\n",
       "        text-align: right;\n",
       "    }\n",
       "</style>\n",
       "<table border=\"1\" class=\"dataframe\">\n",
       "  <thead>\n",
       "    <tr style=\"text-align: right;\">\n",
       "      <th></th>\n",
       "      <th>sellerRating</th>\n",
       "      <th>Duration</th>\n",
       "      <th>ClosePrice</th>\n",
       "      <th>OpenPrice</th>\n",
       "      <th>Competitive?</th>\n",
       "    </tr>\n",
       "    <tr>\n",
       "      <th>endDay</th>\n",
       "      <th></th>\n",
       "      <th></th>\n",
       "      <th></th>\n",
       "      <th></th>\n",
       "      <th></th>\n",
       "    </tr>\n",
       "  </thead>\n",
       "  <tbody>\n",
       "    <tr>\n",
       "      <th>Fri</th>\n",
       "      <td>3990.411150</td>\n",
       "      <td>5.902439</td>\n",
       "      <td>40.192648</td>\n",
       "      <td>18.517317</td>\n",
       "      <td>0.466899</td>\n",
       "    </tr>\n",
       "    <tr>\n",
       "      <th>Mon</th>\n",
       "      <td>6094.691606</td>\n",
       "      <td>6.133212</td>\n",
       "      <td>38.053723</td>\n",
       "      <td>8.209562</td>\n",
       "      <td>0.673358</td>\n",
       "    </tr>\n",
       "    <tr>\n",
       "      <th>Sat</th>\n",
       "      <td>2774.350427</td>\n",
       "      <td>6.068376</td>\n",
       "      <td>40.152108</td>\n",
       "      <td>17.035413</td>\n",
       "      <td>0.427350</td>\n",
       "    </tr>\n",
       "    <tr>\n",
       "      <th>Sun</th>\n",
       "      <td>2504.408284</td>\n",
       "      <td>6.437870</td>\n",
       "      <td>41.936657</td>\n",
       "      <td>17.595414</td>\n",
       "      <td>0.485207</td>\n",
       "    </tr>\n",
       "    <tr>\n",
       "      <th>Thu</th>\n",
       "      <td>1206.207921</td>\n",
       "      <td>6.990099</td>\n",
       "      <td>20.414802</td>\n",
       "      <td>5.566832</td>\n",
       "      <td>0.603960</td>\n",
       "    </tr>\n",
       "    <tr>\n",
       "      <th>Tue</th>\n",
       "      <td>2043.321637</td>\n",
       "      <td>7.730994</td>\n",
       "      <td>27.698713</td>\n",
       "      <td>12.659240</td>\n",
       "      <td>0.532164</td>\n",
       "    </tr>\n",
       "    <tr>\n",
       "      <th>Wed</th>\n",
       "      <td>1630.693333</td>\n",
       "      <td>9.280000</td>\n",
       "      <td>31.474933</td>\n",
       "      <td>6.151733</td>\n",
       "      <td>0.480000</td>\n",
       "    </tr>\n",
       "  </tbody>\n",
       "</table>\n",
       "</div>"
      ],
      "text/plain": [
       "        sellerRating  Duration  ClosePrice  OpenPrice  Competitive?\n",
       "endDay                                                             \n",
       "Fri      3990.411150  5.902439   40.192648  18.517317      0.466899\n",
       "Mon      6094.691606  6.133212   38.053723   8.209562      0.673358\n",
       "Sat      2774.350427  6.068376   40.152108  17.035413      0.427350\n",
       "Sun      2504.408284  6.437870   41.936657  17.595414      0.485207\n",
       "Thu      1206.207921  6.990099   20.414802   5.566832      0.603960\n",
       "Tue      2043.321637  7.730994   27.698713  12.659240      0.532164\n",
       "Wed      1630.693333  9.280000   31.474933   6.151733      0.480000"
      ]
     },
     "execution_count": 94,
     "metadata": {},
     "output_type": "execute_result"
    }
   ],
   "source": [
    "ebay_df.groupby('endDay').mean()"
   ]
  },
  {
   "cell_type": "code",
   "execution_count": 95,
   "metadata": {},
   "outputs": [],
   "source": [
    "# Create dummy variables for category \n",
    "category = pd.get_dummies(ebay_df['Category'],drop_first = True)\n",
    "currency = pd.get_dummies(ebay_df['currency'],drop_first=True)\n",
    "duration = pd.get_dummies(ebay_df['Duration'],drop_first= True)\n",
    "endday   = pd.get_dummies(ebay_df['endDay'],drop_first= True)\n",
    "#combine dummy columns to the dataset \n",
    "ebay_df = pd.concat([ebay_df,category,currency,duration,endday],axis=1)"
   ]
  },
  {
   "cell_type": "code",
   "execution_count": 96,
   "metadata": {},
   "outputs": [
    {
     "name": "stdout",
     "output_type": "stream",
     "text": [
      "<class 'pandas.core.frame.DataFrame'>\n",
      "RangeIndex: 1972 entries, 0 to 1971\n",
      "Data columns (total 37 columns):\n",
      "Category                1972 non-null object\n",
      "currency                1972 non-null object\n",
      "sellerRating            1972 non-null int64\n",
      "Duration                1972 non-null int64\n",
      "endDay                  1972 non-null object\n",
      "ClosePrice              1972 non-null float64\n",
      "OpenPrice               1972 non-null float64\n",
      "Competitive?            1972 non-null int64\n",
      "Automotive              1972 non-null uint8\n",
      "Books                   1972 non-null uint8\n",
      "Business/Industrial     1972 non-null uint8\n",
      "Clothing/Accessories    1972 non-null uint8\n",
      "Coins/Stamps            1972 non-null uint8\n",
      "Collectibles            1972 non-null uint8\n",
      "Computer                1972 non-null uint8\n",
      "Electronics             1972 non-null uint8\n",
      "EverythingElse          1972 non-null uint8\n",
      "Health/Beauty           1972 non-null uint8\n",
      "Home/Garden             1972 non-null uint8\n",
      "Jewelry                 1972 non-null uint8\n",
      "Music/Movie/Game        1972 non-null uint8\n",
      "Photography             1972 non-null uint8\n",
      "Pottery/Glass           1972 non-null uint8\n",
      "SportingGoods           1972 non-null uint8\n",
      "Toys/Hobbies            1972 non-null uint8\n",
      "GBP                     1972 non-null uint8\n",
      "US                      1972 non-null uint8\n",
      "3                       1972 non-null uint8\n",
      "5                       1972 non-null uint8\n",
      "7                       1972 non-null uint8\n",
      "10                      1972 non-null uint8\n",
      "Mon                     1972 non-null uint8\n",
      "Sat                     1972 non-null uint8\n",
      "Sun                     1972 non-null uint8\n",
      "Thu                     1972 non-null uint8\n",
      "Tue                     1972 non-null uint8\n",
      "Wed                     1972 non-null uint8\n",
      "dtypes: float64(2), int64(3), object(3), uint8(29)\n",
      "memory usage: 179.2+ KB\n"
     ]
    }
   ],
   "source": [
    "ebay_df.info()"
   ]
  },
  {
   "cell_type": "code",
   "execution_count": 97,
   "metadata": {},
   "outputs": [
    {
     "name": "stdout",
     "output_type": "stream",
     "text": [
      "<class 'pandas.core.frame.DataFrame'>\n",
      "RangeIndex: 1972 entries, 0 to 1971\n",
      "Data columns (total 34 columns):\n",
      "sellerRating            1972 non-null int64\n",
      "Duration                1972 non-null int64\n",
      "ClosePrice              1972 non-null float64\n",
      "OpenPrice               1972 non-null float64\n",
      "Competitive?            1972 non-null int64\n",
      "Automotive              1972 non-null uint8\n",
      "Books                   1972 non-null uint8\n",
      "Business/Industrial     1972 non-null uint8\n",
      "Clothing/Accessories    1972 non-null uint8\n",
      "Coins/Stamps            1972 non-null uint8\n",
      "Collectibles            1972 non-null uint8\n",
      "Computer                1972 non-null uint8\n",
      "Electronics             1972 non-null uint8\n",
      "EverythingElse          1972 non-null uint8\n",
      "Health/Beauty           1972 non-null uint8\n",
      "Home/Garden             1972 non-null uint8\n",
      "Jewelry                 1972 non-null uint8\n",
      "Music/Movie/Game        1972 non-null uint8\n",
      "Photography             1972 non-null uint8\n",
      "Pottery/Glass           1972 non-null uint8\n",
      "SportingGoods           1972 non-null uint8\n",
      "Toys/Hobbies            1972 non-null uint8\n",
      "GBP                     1972 non-null uint8\n",
      "US                      1972 non-null uint8\n",
      "3                       1972 non-null uint8\n",
      "5                       1972 non-null uint8\n",
      "7                       1972 non-null uint8\n",
      "10                      1972 non-null uint8\n",
      "Mon                     1972 non-null uint8\n",
      "Sat                     1972 non-null uint8\n",
      "Sun                     1972 non-null uint8\n",
      "Thu                     1972 non-null uint8\n",
      "Tue                     1972 non-null uint8\n",
      "Wed                     1972 non-null uint8\n",
      "dtypes: float64(2), int64(3), uint8(29)\n",
      "memory usage: 133.0 KB\n"
     ]
    }
   ],
   "source": [
    "# delete categorial variables \n",
    "ebay_with_dummies  = ebay_df.drop(columns=['Category','currency','endDay'])\n",
    "ebay_with_dummies.info()"
   ]
  },
  {
   "cell_type": "code",
   "execution_count": 98,
   "metadata": {},
   "outputs": [],
   "source": [
    "# split the train and test data \n",
    "# X_train: the predictors in the training set \n",
    "# X_test:  the predictors in the test set \n",
    "# y_train: the predicted value in the training set \n",
    "# y_test:  the predicted value in the test set  \n",
    "from sklearn.model_selection import train_test_split\n",
    "X_train, X_test, y_train, y_test = train_test_split(ebay_with_dummies.drop('Competitive?',axis=1), \n",
    "                                                    ebay_with_dummies['Competitive?'], test_size=0.4, \n",
    "                                                    random_state=12345)"
   ]
  },
  {
   "cell_type": "code",
   "execution_count": 99,
   "metadata": {},
   "outputs": [],
   "source": [
    "# run the logistics regression model \n",
    "from sklearn.linear_model import LogisticRegression\n",
    "train_regl = LogisticRegression(solver='lbfgs')\n",
    "train_regl.fit(X_train,y_train)\n",
    "# this result shows us the result when cutoff = 0.5 \n",
    "test_regl = train_regl.predict(X_test)   "
   ]
  },
  {
   "cell_type": "code",
   "execution_count": 102,
   "metadata": {},
   "outputs": [],
   "source": [
    "# make thhe comparsion chart between prediction value and actual value \n",
    "result_df = pd.DataFrame({'predict':test_regl,'actual':y_test})"
   ]
  },
  {
   "cell_type": "code",
   "execution_count": 103,
   "metadata": {},
   "outputs": [
    {
     "data": {
      "text/html": [
       "<div>\n",
       "<style scoped>\n",
       "    .dataframe tbody tr th:only-of-type {\n",
       "        vertical-align: middle;\n",
       "    }\n",
       "\n",
       "    .dataframe tbody tr th {\n",
       "        vertical-align: top;\n",
       "    }\n",
       "\n",
       "    .dataframe thead th {\n",
       "        text-align: right;\n",
       "    }\n",
       "</style>\n",
       "<table border=\"1\" class=\"dataframe\">\n",
       "  <thead>\n",
       "    <tr style=\"text-align: right;\">\n",
       "      <th></th>\n",
       "      <th>predict</th>\n",
       "      <th>actual</th>\n",
       "    </tr>\n",
       "  </thead>\n",
       "  <tbody>\n",
       "    <tr>\n",
       "      <th>796</th>\n",
       "      <td>0</td>\n",
       "      <td>0</td>\n",
       "    </tr>\n",
       "    <tr>\n",
       "      <th>1002</th>\n",
       "      <td>0</td>\n",
       "      <td>0</td>\n",
       "    </tr>\n",
       "    <tr>\n",
       "      <th>1494</th>\n",
       "      <td>1</td>\n",
       "      <td>0</td>\n",
       "    </tr>\n",
       "    <tr>\n",
       "      <th>511</th>\n",
       "      <td>1</td>\n",
       "      <td>1</td>\n",
       "    </tr>\n",
       "    <tr>\n",
       "      <th>300</th>\n",
       "      <td>0</td>\n",
       "      <td>0</td>\n",
       "    </tr>\n",
       "  </tbody>\n",
       "</table>\n",
       "</div>"
      ],
      "text/plain": [
       "      predict  actual\n",
       "796         0       0\n",
       "1002        0       0\n",
       "1494        1       0\n",
       "511         1       1\n",
       "300         0       0"
      ]
     },
     "execution_count": 103,
     "metadata": {},
     "output_type": "execute_result"
    }
   ],
   "source": [
    "result_df.head()"
   ]
  },
  {
   "cell_type": "code",
   "execution_count": 104,
   "metadata": {},
   "outputs": [
    {
     "data": {
      "text/plain": [
       "array([[295,  69],\n",
       "       [120, 305]])"
      ]
     },
     "execution_count": 104,
     "metadata": {},
     "output_type": "execute_result"
    }
   ],
   "source": [
    "# generate the confusion matrix \n",
    "from sklearn import metrics\n",
    "cmatrix = metrics.confusion_matrix(y_test,test_regl)\n",
    "cmatrix"
   ]
  },
  {
   "cell_type": "code",
   "execution_count": 105,
   "metadata": {},
   "outputs": [
    {
     "data": {
      "text/plain": [
       "<matplotlib.axes._subplots.AxesSubplot at 0x1a265e5d30>"
      ]
     },
     "execution_count": 105,
     "metadata": {},
     "output_type": "execute_result"
    },
    {
     "data": {
      "image/png": "[encoded data removed]",
      "text/plain": [
       "<Figure size 432x288 with 1 Axes>"
      ]
     },
     "metadata": {
      "needs_background": "light"
     },
     "output_type": "display_data"
    }
   ],
   "source": [
    "y_proba = train_regl.predict_proba(X_test)\n",
    "# gain chart \n",
    "import scikitplot as skplt\n",
    "skplt.metrics.plot_cumulative_gain(y_test,y_proba)\n"
   ]
  },
  {
   "cell_type": "code",
   "execution_count": 106,
   "metadata": {},
   "outputs": [
    {
     "data": {
      "text/plain": [
       "<matplotlib.axes._subplots.AxesSubplot at 0x1a266d2e48>"
      ]
     },
     "execution_count": 106,
     "metadata": {},
     "output_type": "execute_result"
    },
    {
     "data": {
      "image/png": "[encoded data removed]",
      "text/plain": [
       "<Figure size 432x288 with 1 Axes>"
      ]
     },
     "metadata": {
      "needs_background": "light"
     },
     "output_type": "display_data"
    }
   ],
   "source": [
    "#lift chart \n",
    "skplt.metrics.plot_lift_curve(y_test, y_proba)"
   ]
  },
  {
   "cell_type": "code",
   "execution_count": 107,
   "metadata": {},
   "outputs": [
    {
     "data": {
      "text/plain": [
       "<matplotlib.axes._subplots.AxesSubplot at 0x1a26717160>"
      ]
     },
     "execution_count": 107,
     "metadata": {},
     "output_type": "execute_result"
    },
    {
     "data": {
      "image/png": "[encoded data removed]",
      "text/plain": [
       "<Figure size 432x288 with 1 Axes>"
      ]
     },
     "metadata": {
      "needs_background": "light"
     },
     "output_type": "display_data"
    }
   ],
   "source": [
    "# ROC Chart \n",
    "skplt.metrics.plot_roc(y_test,y_proba)"
   ]
  },
  {
   "cell_type": "code",
   "execution_count": null,
   "metadata": {},
   "outputs": [],
   "source": []
  }
 ],
 "metadata": {
  "kernelspec": {
   "display_name": "Python 3",
   "language": "python",
   "name": "python3"
  },
  "language_info": {
   "codemirror_mode": {
    "name": "ipython",
    "version": 3
   },
   "file_extension": ".py",
   "mimetype": "text/x-python",
   "name": "python",
   "nbconvert_exporter": "python",
   "pygments_lexer": "ipython3",
   "version": "3.7.3"
  }
 },
 "nbformat": 4,
 "nbformat_minor": 4
}
